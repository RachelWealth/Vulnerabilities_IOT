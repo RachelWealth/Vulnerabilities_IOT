{
 "cells": [
  {
   "cell_type": "code",
   "execution_count": 1,
   "id": "thick-regard",
   "metadata": {},
   "outputs": [],
   "source": [
    "from maclookup import ApiClient\n",
    "import sqlite3\n",
    "import json\n",
    "\n",
    "PATH=\"data/WiGLE_Backup.db\"\n",
    "net = \"network\"\n",
    "loc = \"location\"\n",
    "\n",
    "API_KEY = \"at_oZ9pLFT3m66EVSyi8XPYM6rMxWYnI\"\n",
    "MACADDR_JSON_FILE = \"data/macaddr_json\"\n"
   ]
  },
  {
   "cell_type": "code",
   "execution_count": 2,
   "id": "caroline-monster",
   "metadata": {},
   "outputs": [
    {
     "name": "stdout",
     "output_type": "stream",
     "text": [
      "The number of WiFi and Bluethooth data is 1466\n",
      "new data: 1286\n"
     ]
    }
   ],
   "source": [
    "# Load existing data from JSON file\n",
    "with open(MACADDR_JSON_FILE, 'r') as f:\n",
    "    data = json.load(f)\n",
    "\n",
    "con = sqlite3.connect(PATH)\n",
    "cur=con.cursor()\n",
    "\n",
    "new_database = False\n",
    "query = \"select * from {} where type != ? and type != ?\".format(net)\n",
    "cur.execute(query, ('W', 'B'))\n",
    "if len(cur.fetchall())!=0:\n",
    "    new_database = True\n",
    "\n",
    "query = \"DELETE FROM {} WHERE type != ? and type != ?\".format(net)\n",
    "cur.execute(query, ('W', 'B'))\n",
    "\n",
    "query = \"select count(*) from {}\".format(net)\n",
    "print(\"The number of WiFi and Bluethooth data is\",cur.execute(query).fetchone()[0])\n",
    "\n",
    "query = \"select bssid from {}\".format(net)\n",
    "cur.execute(query)\n",
    "\n",
    "# Extract all the new data\n",
    "rts=cur.fetchall()\n",
    "rt_str=[]\n",
    "for rt in rts:\n",
    "    if ','.join(rt) not in list(data.keys()):\n",
    "    # transfer all the rt(tuple) into string\n",
    "        rt_str.append(','.join(rt))\n",
    "print(\"new data:\",len(rt_str))\n",
    "\n",
    "con.close()"
   ]
  },
  {
   "cell_type": "code",
   "execution_count": 82,
   "id": "classical-animation",
   "metadata": {},
   "outputs": [
    {
     "data": {
      "text/plain": [
       "False"
      ]
     },
     "execution_count": 82,
     "metadata": {},
     "output_type": "execute_result"
    }
   ],
   "source": [
    "new_database"
   ]
  },
  {
   "cell_type": "code",
   "execution_count": 72,
   "id": "consistent-victorian",
   "metadata": {},
   "outputs": [
    {
     "data": {
      "text/plain": [
       "{'vendorDetails': {'oui': '000195',\n",
       "  'isPrivate': False,\n",
       "  'companyName': 'Sena Tech, Inc',\n",
       "  'companyAddress': '116-23 Shinlim-dong KOREA KR',\n",
       "  'countryCode': 'KR'},\n",
       " 'blockDetails': {'blockFound': True,\n",
       "  'borderLeft': '000195000000',\n",
       "  'borderRight': '000195FFFFFF',\n",
       "  'blockSize': 16777216,\n",
       "  'assignmentBlockSize': 'MA-L',\n",
       "  'dateCreated': '2000-11-09',\n",
       "  'dateUpdated': '2015-09-27'},\n",
       " 'macAddressDetails': {'searchTerm': '00:01:95:4e:21:63',\n",
       "  'isValid': True,\n",
       "  'virtualMachine': 'Microsoft Virtual PC / Virtual Server',\n",
       "  'applications': [],\n",
       "  'transmissionType': 'unicast',\n",
       "  'administrationType': 'UAA',\n",
       "  'wiresharkNotes': 'No details',\n",
       "  'comment': ''}}"
      ]
     },
     "execution_count": 72,
     "metadata": {},
     "output_type": "execute_result"
    }
   ],
   "source": [
    "data[','.join(rts[0])]"
   ]
  },
  {
   "cell_type": "code",
   "execution_count": 5,
   "id": "important-wells",
   "metadata": {},
   "outputs": [
    {
     "name": "stdout",
     "output_type": "stream",
     "text": [
      "0\n"
     ]
    }
   ],
   "source": [
    "# get mac details of new data\n",
    "json_raw_data = data\n",
    "times = 1\n",
    "client = ApiClient(API_KEY)\n",
    "new_data={}\n",
    "for rt in rt_str:\n",
    "    new_data[rt]=json.loads(client.get_raw_data(\"00:2c:c8:a2:1d:c1\", 'json').decode())\n",
    "    times-=1\n",
    "    if times==0:\n",
    "        break\n",
    "print(times)\n",
    "if(len(new_data)==0):\n",
    "    print(\"This database process completely! Today still have {} times.\".format(times))"
   ]
  },
  {
   "cell_type": "code",
   "execution_count": 6,
   "id": "tribal-blind",
   "metadata": {},
   "outputs": [
    {
     "name": "stdout",
     "output_type": "stream",
     "text": [
      "{'0b:e4:6f:6d:41:e9': {'vendorDetails': {'oui': '002CC8', 'isPrivate': False, 'companyName': 'Cisco Systems, Inc', 'companyAddress': '80 West Tasman Drive San Jose CA 94568 US', 'countryCode': 'US'}, 'blockDetails': {'blockFound': True, 'borderLeft': '002CC8000000', 'borderRight': '002CC8FFFFFF', 'blockSize': 16777216, 'assignmentBlockSize': 'MA-L', 'dateCreated': '2016-11-26', 'dateUpdated': '2016-11-26'}, 'macAddressDetails': {'searchTerm': '00:2c:c8:a2:1d:c1', 'isValid': True, 'virtualMachine': 'Not detected', 'applications': [], 'transmissionType': 'unicast', 'administrationType': 'UAA', 'wiresharkNotes': 'No details', 'comment': ''}}}\n",
      "1\n"
     ]
    }
   ],
   "source": [
    "#print(new_database)\n",
    "print(new_data)\n",
    "print(len(new_data))"
   ]
  },
  {
   "cell_type": "code",
   "execution_count": 87,
   "id": "occupational-premiere",
   "metadata": {},
   "outputs": [],
   "source": [
    "# uplate json file\n",
    "json_raw_data.update(new_data)\n",
    "\n",
    "# Write updated data back to JSON file\n",
    "with open(MACADDR_JSON_FILE, 'w') as f:\n",
    "    json.dump(json_raw_data, f)\n",
    "    "
   ]
  },
  {
   "cell_type": "code",
   "execution_count": 88,
   "id": "collected-pleasure",
   "metadata": {},
   "outputs": [
    {
     "name": "stdout",
     "output_type": "stream",
     "text": [
      "180\n",
      "180\n"
     ]
    }
   ],
   "source": [
    "print(len(json_raw_data))\n",
    "with open(MACADDR_JSON_FILE, 'r') as f:\n",
    "    dd=json.load(f)\n",
    "print(len(dd))"
   ]
  },
  {
   "cell_type": "code",
   "execution_count": 89,
   "id": "written-christopher",
   "metadata": {},
   "outputs": [],
   "source": [
    "# update database\n",
    "table_names=list(json_raw_data[list(json_raw_data.keys())[0]].keys())\n",
    "con = sqlite3.connect(PATH)\n",
    "cur=con.cursor()\n",
    "for table_key in table_names:\n",
    "    # Iterate through the first dimension of the JSON\n",
    "    for id_key in new_data.keys():\n",
    "        # Get the values for this ID and table name\n",
    "        values = [new_data[id_key][table_key][col_key] for col_key in new_data[id_key][table_key].keys()]\n",
    "        values=[str(item) for item in values]\n",
    "        # Insert data into the table\n",
    "        #print(f\"INSERT INTO {table_key} (id, {', '.join(json_raw_data[id_key][table_key].keys())}) VALUES (?, {', '.join(['?' for i in range(len(values))])})\", [id_key, *values])\n",
    "        cur.execute(f\"INSERT INTO {table_key} (id, {', '.join(new_data[id_key][table_key].keys())}) VALUES (?, {', '.join(['?' for i in range(len(values))])})\", [id_key, *values])\n",
    "\n",
    "# Commit changes and close connection\n",
    "con.commit()\n",
    "con.close()"
   ]
  },
  {
   "cell_type": "markdown",
   "id": "architectural-egyptian",
   "metadata": {},
   "source": [
    "# Log"
   ]
  },
  {
   "cell_type": "code",
   "execution_count": 91,
   "id": "applied-choice",
   "metadata": {
    "scrolled": false
   },
   "outputs": [
    {
     "name": "stderr",
     "output_type": "stream",
     "text": [
      "--- Logging error ---\n",
      "Traceback (most recent call last):\n",
      "  File \"d:\\python\\lib\\logging\\__init__.py\", line 1081, in emit\n",
      "    msg = self.format(record)\n",
      "  File \"d:\\python\\lib\\logging\\__init__.py\", line 925, in format\n",
      "    return fmt.format(record)\n",
      "  File \"d:\\python\\lib\\logging\\__init__.py\", line 664, in format\n",
      "    record.message = record.getMessage()\n",
      "  File \"d:\\python\\lib\\logging\\__init__.py\", line 369, in getMessage\n",
      "    msg = msg % self.args\n",
      "TypeError: not all arguments converted during string formatting\n",
      "Call stack:\n",
      "  File \"d:\\python\\lib\\runpy.py\", line 194, in _run_module_as_main\n",
      "    return _run_code(code, main_globals, None,\n",
      "  File \"d:\\python\\lib\\runpy.py\", line 87, in _run_code\n",
      "    exec(code, run_globals)\n",
      "  File \"d:\\python\\lib\\site-packages\\ipykernel_launcher.py\", line 16, in <module>\n",
      "    app.launch_new_instance()\n",
      "  File \"d:\\python\\lib\\site-packages\\traitlets\\config\\application.py\", line 837, in launch_instance\n",
      "    app.start()\n",
      "  File \"d:\\python\\lib\\site-packages\\ipykernel\\kernelapp.py\", line 612, in start\n",
      "    self.io_loop.start()\n",
      "  File \"d:\\python\\lib\\site-packages\\tornado\\platform\\asyncio.py\", line 199, in start\n",
      "    self.asyncio_loop.run_forever()\n",
      "  File \"d:\\python\\lib\\asyncio\\base_events.py\", line 570, in run_forever\n",
      "    self._run_once()\n",
      "  File \"d:\\python\\lib\\asyncio\\base_events.py\", line 1859, in _run_once\n",
      "    handle._run()\n",
      "  File \"d:\\python\\lib\\asyncio\\events.py\", line 81, in _run\n",
      "    self._context.run(self._callback, *self._args)\n",
      "  File \"d:\\python\\lib\\site-packages\\tornado\\ioloop.py\", line 688, in <lambda>\n",
      "    lambda f: self._run_callback(functools.partial(callback, future))\n",
      "  File \"d:\\python\\lib\\site-packages\\tornado\\ioloop.py\", line 741, in _run_callback\n",
      "    ret = callback()\n",
      "  File \"d:\\python\\lib\\site-packages\\tornado\\gen.py\", line 814, in inner\n",
      "    self.ctx_run(self.run)\n",
      "  File \"d:\\python\\lib\\site-packages\\tornado\\gen.py\", line 775, in run\n",
      "    yielded = self.gen.send(value)\n",
      "  File \"d:\\python\\lib\\site-packages\\ipykernel\\kernelbase.py\", line 365, in process_one\n",
      "    yield gen.maybe_future(dispatch(*args))\n",
      "  File \"d:\\python\\lib\\site-packages\\tornado\\gen.py\", line 234, in wrapper\n",
      "    yielded = ctx_run(next, result)\n",
      "  File \"d:\\python\\lib\\site-packages\\ipykernel\\kernelbase.py\", line 268, in dispatch_shell\n",
      "    yield gen.maybe_future(handler(stream, idents, msg))\n",
      "  File \"d:\\python\\lib\\site-packages\\tornado\\gen.py\", line 234, in wrapper\n",
      "    yielded = ctx_run(next, result)\n",
      "  File \"d:\\python\\lib\\site-packages\\ipykernel\\kernelbase.py\", line 543, in execute_request\n",
      "    self.do_execute(\n",
      "  File \"d:\\python\\lib\\site-packages\\tornado\\gen.py\", line 234, in wrapper\n",
      "    yielded = ctx_run(next, result)\n",
      "  File \"d:\\python\\lib\\site-packages\\ipykernel\\ipkernel.py\", line 306, in do_execute\n",
      "    res = shell.run_cell(code, store_history=store_history, silent=silent)\n",
      "  File \"d:\\python\\lib\\site-packages\\ipykernel\\zmqshell.py\", line 536, in run_cell\n",
      "    return super(ZMQInteractiveShell, self).run_cell(*args, **kwargs)\n",
      "  File \"d:\\python\\lib\\site-packages\\IPython\\core\\interactiveshell.py\", line 2876, in run_cell\n",
      "    result = self._run_cell(\n",
      "  File \"d:\\python\\lib\\site-packages\\IPython\\core\\interactiveshell.py\", line 2922, in _run_cell\n",
      "    return runner(coro)\n",
      "  File \"d:\\python\\lib\\site-packages\\IPython\\core\\async_helpers.py\", line 68, in _pseudo_sync_runner\n",
      "    coro.send(None)\n",
      "  File \"d:\\python\\lib\\site-packages\\IPython\\core\\interactiveshell.py\", line 3145, in run_cell_async\n",
      "    has_raised = await self.run_ast_nodes(code_ast.body, cell_name,\n",
      "  File \"d:\\python\\lib\\site-packages\\IPython\\core\\interactiveshell.py\", line 3337, in run_ast_nodes\n",
      "    if (await self.run_code(code, result,  async_=asy)):\n",
      "  File \"d:\\python\\lib\\site-packages\\IPython\\core\\interactiveshell.py\", line 3417, in run_code\n",
      "    exec(code_obj, self.user_global_ns, self.user_ns)\n",
      "  File \"<ipython-input-91-68b2a9af3fb8>\", line 11, in <module>\n",
      "    logging.info(now,':Inital successfully, with {} data'.format(len(new_data)))\n",
      "Message: datetime.datetime(2023, 3, 1, 14, 17, 50, 80673)\n",
      "Arguments: (':Inital successfully, with 86 data',)\n",
      "--- Logging error ---\n",
      "Traceback (most recent call last):\n",
      "  File \"d:\\python\\lib\\logging\\__init__.py\", line 1081, in emit\n",
      "    msg = self.format(record)\n",
      "  File \"d:\\python\\lib\\logging\\__init__.py\", line 925, in format\n",
      "    return fmt.format(record)\n",
      "  File \"d:\\python\\lib\\logging\\__init__.py\", line 664, in format\n",
      "    record.message = record.getMessage()\n",
      "  File \"d:\\python\\lib\\logging\\__init__.py\", line 369, in getMessage\n",
      "    msg = msg % self.args\n",
      "TypeError: not all arguments converted during string formatting\n",
      "Call stack:\n",
      "  File \"d:\\python\\lib\\runpy.py\", line 194, in _run_module_as_main\n",
      "    return _run_code(code, main_globals, None,\n",
      "  File \"d:\\python\\lib\\runpy.py\", line 87, in _run_code\n",
      "    exec(code, run_globals)\n",
      "  File \"d:\\python\\lib\\site-packages\\ipykernel_launcher.py\", line 16, in <module>\n",
      "    app.launch_new_instance()\n",
      "  File \"d:\\python\\lib\\site-packages\\traitlets\\config\\application.py\", line 837, in launch_instance\n",
      "    app.start()\n",
      "  File \"d:\\python\\lib\\site-packages\\ipykernel\\kernelapp.py\", line 612, in start\n",
      "    self.io_loop.start()\n",
      "  File \"d:\\python\\lib\\site-packages\\tornado\\platform\\asyncio.py\", line 199, in start\n",
      "    self.asyncio_loop.run_forever()\n",
      "  File \"d:\\python\\lib\\asyncio\\base_events.py\", line 570, in run_forever\n",
      "    self._run_once()\n",
      "  File \"d:\\python\\lib\\asyncio\\base_events.py\", line 1859, in _run_once\n",
      "    handle._run()\n",
      "  File \"d:\\python\\lib\\asyncio\\events.py\", line 81, in _run\n",
      "    self._context.run(self._callback, *self._args)\n",
      "  File \"d:\\python\\lib\\site-packages\\tornado\\ioloop.py\", line 688, in <lambda>\n",
      "    lambda f: self._run_callback(functools.partial(callback, future))\n",
      "  File \"d:\\python\\lib\\site-packages\\tornado\\ioloop.py\", line 741, in _run_callback\n",
      "    ret = callback()\n",
      "  File \"d:\\python\\lib\\site-packages\\tornado\\gen.py\", line 814, in inner\n",
      "    self.ctx_run(self.run)\n",
      "  File \"d:\\python\\lib\\site-packages\\tornado\\gen.py\", line 775, in run\n",
      "    yielded = self.gen.send(value)\n",
      "  File \"d:\\python\\lib\\site-packages\\ipykernel\\kernelbase.py\", line 365, in process_one\n",
      "    yield gen.maybe_future(dispatch(*args))\n",
      "  File \"d:\\python\\lib\\site-packages\\tornado\\gen.py\", line 234, in wrapper\n",
      "    yielded = ctx_run(next, result)\n",
      "  File \"d:\\python\\lib\\site-packages\\ipykernel\\kernelbase.py\", line 268, in dispatch_shell\n",
      "    yield gen.maybe_future(handler(stream, idents, msg))\n",
      "  File \"d:\\python\\lib\\site-packages\\tornado\\gen.py\", line 234, in wrapper\n",
      "    yielded = ctx_run(next, result)\n",
      "  File \"d:\\python\\lib\\site-packages\\ipykernel\\kernelbase.py\", line 543, in execute_request\n",
      "    self.do_execute(\n",
      "  File \"d:\\python\\lib\\site-packages\\tornado\\gen.py\", line 234, in wrapper\n",
      "    yielded = ctx_run(next, result)\n",
      "  File \"d:\\python\\lib\\site-packages\\ipykernel\\ipkernel.py\", line 306, in do_execute\n",
      "    res = shell.run_cell(code, store_history=store_history, silent=silent)\n",
      "  File \"d:\\python\\lib\\site-packages\\ipykernel\\zmqshell.py\", line 536, in run_cell\n",
      "    return super(ZMQInteractiveShell, self).run_cell(*args, **kwargs)\n",
      "  File \"d:\\python\\lib\\site-packages\\IPython\\core\\interactiveshell.py\", line 2876, in run_cell\n",
      "    result = self._run_cell(\n",
      "  File \"d:\\python\\lib\\site-packages\\IPython\\core\\interactiveshell.py\", line 2922, in _run_cell\n",
      "    return runner(coro)\n",
      "  File \"d:\\python\\lib\\site-packages\\IPython\\core\\async_helpers.py\", line 68, in _pseudo_sync_runner\n",
      "    coro.send(None)\n",
      "  File \"d:\\python\\lib\\site-packages\\IPython\\core\\interactiveshell.py\", line 3145, in run_cell_async\n",
      "    has_raised = await self.run_ast_nodes(code_ast.body, cell_name,\n",
      "  File \"d:\\python\\lib\\site-packages\\IPython\\core\\interactiveshell.py\", line 3337, in run_ast_nodes\n",
      "    if (await self.run_code(code, result,  async_=asy)):\n",
      "  File \"d:\\python\\lib\\site-packages\\IPython\\core\\interactiveshell.py\", line 3417, in run_code\n",
      "    exec(code_obj, self.user_global_ns, self.user_ns)\n",
      "  File \"<ipython-input-91-68b2a9af3fb8>\", line 12, in <module>\n",
      "    logging.info(now,'Totally, with {} data'.format(len(dd)))\n",
      "Message: datetime.datetime(2023, 3, 1, 14, 17, 50, 80673)\n",
      "Arguments: ('Totally, with 180 data',)\n"
     ]
    }
   ],
   "source": [
    "import logging\n",
    "import datetime\n",
    "\n",
    "# Get the current date and time\n",
    "now = datetime.datetime.now()\n",
    "\n",
    "# Configure the logging module\n",
    "logging.basicConfig(filename='Log_WiGLE', level=logging.DEBUG)\n",
    "\n",
    "# Generate a log message\n",
    "logging.info(now,':Inital successfully, with {} data'.format(len(new_data)))\n",
    "logging.info(now,'Totally, with {} data'.format(len(dd)))\n"
   ]
  },
  {
   "cell_type": "code",
   "execution_count": null,
   "id": "subsequent-contractor",
   "metadata": {},
   "outputs": [],
   "source": [
    "\n"
   ]
  }
 ],
 "metadata": {
  "kernelspec": {
   "display_name": "Python 3",
   "language": "python",
   "name": "python3"
  },
  "language_info": {
   "codemirror_mode": {
    "name": "ipython",
    "version": 3
   },
   "file_extension": ".py",
   "mimetype": "text/x-python",
   "name": "python",
   "nbconvert_exporter": "python",
   "pygments_lexer": "ipython3",
   "version": "3.8.4rc1"
  }
 },
 "nbformat": 4,
 "nbformat_minor": 5
}
