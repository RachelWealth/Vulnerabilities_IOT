{
 "cells": [
  {
   "cell_type": "code",
   "execution_count": 12,
   "id": "consolidated-humidity",
   "metadata": {},
   "outputs": [],
   "source": [
    "# Put all the network information in \"WiGLE_Backup.db\"\n",
    "\n",
    "import sqlite3\n",
    "\n",
    "PATH=\"data/WiGLE_Backup.db\"\n",
    "second_path='data/database_Duan.sqlite'\n",
    "\n",
    "I3E=\"i3e\"\n",
    "NET = \"network\"\n",
    "LOC = \"location\"\n",
    "ROU = \"route\"\n",
    "\n",
    "VEN = \"vendor\"\n",
    "\n",
    "wigle_blue = \"wigle_blue\"\n",
    "wigle_wifi= \"wigle_wifi\"\n",
    "\n"
   ]
  },
  {
   "cell_type": "code",
   "execution_count": 13,
   "id": "occasional-machine",
   "metadata": {},
   "outputs": [
    {
     "name": "stdout",
     "output_type": "stream",
     "text": [
      "The number of WiFi and Bluethooth data is in the new database is 359720\n"
     ]
    }
   ],
   "source": [
    "con2 = sqlite3.connect(second_path)\n",
    "cur2 = con2.cursor()\n",
    "\n",
    "query = \"DELETE FROM {} WHERE type != ? and type != ? and type != ?\".format(NET)\n",
    "cur2.execute(query, ('W', 'B','E'))\n",
    "\n",
    "query = \"select count(*) from {}\".format(NET)\n",
    "print(\"The number of WiFi and Bluethooth data is in the new database is\",cur2.execute(query).fetchone()[0])\n",
    "\n",
    "\n",
    "con2.commit()\n",
    "con2.close()"
   ]
  },
  {
   "cell_type": "code",
   "execution_count": 14,
   "id": "helpful-arrest",
   "metadata": {},
   "outputs": [
    {
     "data": {
      "text/plain": [
       "<sqlite3.Cursor at 0x1a3f72ab490>"
      ]
     },
     "execution_count": 14,
     "metadata": {},
     "output_type": "execute_result"
    }
   ],
   "source": [
    "con = sqlite3.connect(PATH)\n",
    "cur = con.cursor()\n",
    "\n",
    "#con2 = sqlite3.connect(second_path)\n",
    "#cur2=con2.cursor()\n",
    "\n",
    "\n",
    "cur.execute(\"ATTACH DATABASE '{}' AS db2\".format(second_path))\n",
    "\n"
   ]
  },
  {
   "cell_type": "code",
   "execution_count": 15,
   "id": "marked-poultry",
   "metadata": {},
   "outputs": [],
   "source": [
    "# Select data from the second table and remap the id values\n",
    "cur.execute(\"INSERT OR IGNORE INTO {} SELECT * FROM db2.{}\".format(NET,NET))\n",
    "cur.execute(\"INSERT OR IGNORE INTO {} SELECT * FROM db2.{}\".format(LOC,LOC))\n",
    "cur.execute(\"INSERT OR IGNORE INTO {} SELECT * FROM db2.{}\".format(ROU,ROU))\n",
    "\n",
    "# Commit the changes and close the connections\n",
    "con.commit()\n",
    "#con2.close()\n",
    "con.close()"
   ]
  },
  {
   "cell_type": "code",
   "execution_count": 69,
   "id": "harmful-gothic",
   "metadata": {},
   "outputs": [],
   "source": [
    "con.commit()\n",
    "#con2.close()\n",
    "con.close()"
   ]
  },
  {
   "cell_type": "code",
   "execution_count": null,
   "id": "alive-sunglasses",
   "metadata": {},
   "outputs": [],
   "source": []
  }
 ],
 "metadata": {
  "kernelspec": {
   "display_name": "Python 3",
   "language": "python",
   "name": "python3"
  },
  "language_info": {
   "codemirror_mode": {
    "name": "ipython",
    "version": 3
   },
   "file_extension": ".py",
   "mimetype": "text/x-python",
   "name": "python",
   "nbconvert_exporter": "python",
   "pygments_lexer": "ipython3",
   "version": "3.8.4rc1"
  }
 },
 "nbformat": 4,
 "nbformat_minor": 5
}
