{
 "cells": [
  {
   "cell_type": "code",
   "execution_count": 1,
   "id": "fantastic-dominican",
   "metadata": {},
   "outputs": [],
   "source": [
    "import re\n",
    "import json\n",
    "\n",
    "PATH=\"data/CWE-Mapping-List.txt\"\n",
    "MAP=\"data/cve-map.json\"\n"
   ]
  },
  {
   "cell_type": "code",
   "execution_count": null,
   "id": "extra-facial",
   "metadata": {},
   "outputs": [],
   "source": [
    "cwe={}\n",
    "with open(PATH,'r') as f:\n",
    "    for line in f:\n",
    "        print(line)\n",
    "        match = re.search('<option.*?>(.*?)</option>', line)\n",
    "        if match:\n",
    "            rt=match.group(1)\n",
    "            # print(rt)\n",
    "            des=rt.split(\" - \")\n",
    "            # print(des)\n",
    "            cwe[des[0]]=des[1]\n",
    "with open(MAP, 'w') as f:\n",
    "    json.dump(cwe, f)\n",
    "print(cwe)  "
   ]
  },
  {
   "cell_type": "code",
   "execution_count": 4,
   "id": "documentary-dancing",
   "metadata": {},
   "outputs": [
    {
     "name": "stdout",
     "output_type": "stream",
     "text": [
      "Values updated and saved to the JSON file.\n"
     ]
    }
   ],
   "source": [
    "import json\n",
    "MAP_s=\"data/cve-map_simple.json\"\n",
    "# Read the JSON file\n",
    "with open(MAP_s, 'r') as file:\n",
    "    data = json.load(file)\n",
    "\n",
    "# Iterate over the dictionary and update the values\n",
    "for key, value in data.items():\n",
    "    if '(' in value and ')' in value:\n",
    "        # Extract the value within the parentheses\n",
    "        start_index = value.index('(') + 1\n",
    "        end_index = value.index(')')\n",
    "        extracted_value = value[start_index:end_index]\n",
    "\n",
    "        # Update the value in the dictionary\n",
    "        data[key] = extracted_value\n",
    "\n",
    "# Save the updated data back to the JSON file\n",
    "with open(MAP_s, 'w') as file:\n",
    "    json.dump(data, file)\n",
    "\n",
    "print(\"Values updated and saved to the JSON file.\")"
   ]
  },
  {
   "cell_type": "code",
   "execution_count": null,
   "id": "useful-delivery",
   "metadata": {},
   "outputs": [],
   "source": []
  }
 ],
 "metadata": {
  "kernelspec": {
   "display_name": "Python 3",
   "language": "python",
   "name": "python3"
  },
  "language_info": {
   "codemirror_mode": {
    "name": "ipython",
    "version": 3
   },
   "file_extension": ".py",
   "mimetype": "text/x-python",
   "name": "python",
   "nbconvert_exporter": "python",
   "pygments_lexer": "ipython3",
   "version": "3.8.4rc1"
  }
 },
 "nbformat": 4,
 "nbformat_minor": 5
}
