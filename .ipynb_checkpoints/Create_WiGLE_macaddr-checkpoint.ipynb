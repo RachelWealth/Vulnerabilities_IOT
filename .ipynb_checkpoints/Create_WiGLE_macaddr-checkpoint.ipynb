{
 "cells": [
  {
   "cell_type": "code",
   "execution_count": null,
   "id": "color-lawsuit",
   "metadata": {},
   "outputs": [],
   "source": [
    "import sqlite3\n",
    "\n",
    "PATH=\"data/WiGLE_Backup.db\"\n",
    "net = \"network\"\n",
    "loc = \"location\"\n",
    "\n",
    "API_KEY = \"at_oZ9pLFT3m66EVSyi8XPYM6rMxWYnI\"\n",
    "MACADDR_JSON_FILE = \"data/macaddr_json\"\n",
    "\n",
    "con = sqlite3.connect(PATH)\n",
    "cur=con.cursor()\n",
    "\n",
    "query = \"DELETE FROM {} WHERE type != ? and type != ?\".format(net)\n",
    "cur.execute(query, ('W', 'B'))\n",
    "\n",
    "query = \"select count(*) from {}\".format(net)\n",
    "print(\"The number of WiFi and Bluethooth data is\",cur.execute(query).fetchone()[0])\n",
    "\n",
    "query = \"select bssid from {}\".format(net)\n",
    "cur.execute(query)\n",
    "\n",
    "rts=cur.fetchall()\n",
    "\n",
    "con.commit()\n",
    "con.close()\n",
    "\n"
   ]
  },
  {
   "cell_type": "code",
   "execution_count": null,
   "id": "fitting-springfield",
   "metadata": {},
   "outputs": [],
   "source": [
    "rt_str=[]\n",
    "for rt in rts:\n",
    "    # transfer all the rt(tuple) into string\n",
    "    print(rt)\n",
    "    s = ','.join(rt)\n",
    "    rt_str.append(s)\n",
    "    print('After transfer:',s)\n",
    "con.close()\n",
    "\n",
    "# load json data... \n",
    "with open(MACADDR_JSON_FILE,'r') as file:\n",
    "    old_data = json.load(file)\n",
    "\n",
    "json_raw_data = old_data\n",
    "times = 100\n",
    "for rt in rts_str:\n",
    "    if rt not in old_data:\n",
    "        json_raw_data[rt_str[i]]=json.loads(client.get_raw_data(rt_str[i], 'json').decode())\n",
    "        times-=1\n",
    "    if times==0:\n",
    "        break\n",
    "    \n",
    "    \n",
    "with open(MACADDR_JSON_FILE,'w') as outfile:\n",
    "    json.dump(json_raw_data, outfile)\n",
    "\n"
   ]
  },
  {
   "cell_type": "markdown",
   "id": "worth-airline",
   "metadata": {},
   "source": [
    "# Create table for macaddress"
   ]
  },
  {
   "cell_type": "code",
   "execution_count": 1,
   "id": "legislative-potential",
   "metadata": {},
   "outputs": [
    {
     "name": "stdout",
     "output_type": "stream",
     "text": [
      "{'vendorDetails': {'oui': '000195', 'isPrivate': False, 'companyName': 'Sena Tech, Inc', 'companyAddress': '116-23 Shinlim-dong KOREA KR', 'countryCode': 'KR'}, 'blockDetails': {'blockFound': True, 'borderLeft': '000195000000', 'borderRight': '000195FFFFFF', 'blockSize': 16777216, 'assignmentBlockSize': 'MA-L', 'dateCreated': '2000-11-09', 'dateUpdated': '2015-09-27'}, 'macAddressDetails': {'searchTerm': '00:01:95:4e:21:63', 'isValid': True, 'virtualMachine': 'Microsoft Virtual PC / Virtual Server', 'applications': [], 'transmissionType': 'unicast', 'administrationType': 'UAA', 'wiresharkNotes': 'No details', 'comment': ''}}\n"
     ]
    }
   ],
   "source": [
    "# test\n",
    "import json\n",
    "MACADDR_JSON_FILE = \"data/macaddr_json\"\n",
    "with open(MACADDR_JSON_FILE,'r') as file:\n",
    "    old_data = json.load(file)\n",
    "print(old_data[\"00:01:95:4e:21:63\"])"
   ]
  },
  {
   "cell_type": "code",
   "execution_count": 6,
   "id": "patient-spectacular",
   "metadata": {},
   "outputs": [
    {
     "data": {
      "text/plain": [
       "dict_keys"
      ]
     },
     "execution_count": 6,
     "metadata": {},
     "output_type": "execute_result"
    }
   ],
   "source": [
    "type(old_data.keys())\n",
    "#old_data[old_data.keys()[0]][old_data.keys()[0].keys()[0]]"
   ]
  },
  {
   "cell_type": "code",
   "execution_count": 50,
   "id": "modular-chapter",
   "metadata": {},
   "outputs": [],
   "source": [
    "import json\n",
    "import sqlite3\n",
    "\n",
    "PATH = \"data/WiGLE_Backup.db\"\n",
    "net = \"network\"\n",
    "MACADDR_JSON_FILE = \"data/macaddr_json\"\n",
    "\n",
    "# Connect to SQLite database\n",
    "con = sqlite3.connect(PATH)\n",
    "cur=con.cursor()\n",
    "\n",
    "# load json data... \n",
    "with open(MACADDR_JSON_FILE,'r') as file:\n",
    "    old_data = json.load(file)\n",
    "\n",
    "json_data = old_data\n",
    "table_names=list(json_data[\"00:01:95:4e:21:63\"].keys())\n",
    "\n",
    "\n",
    "\n"
   ]
  },
  {
   "cell_type": "code",
   "execution_count": 48,
   "id": "parallel-video",
   "metadata": {},
   "outputs": [
    {
     "data": {
      "text/plain": [
       "['00:2c:c8:9d:58:80',\n",
       " True,\n",
       " 'Not detected',\n",
       " [],\n",
       " 'unicast',\n",
       " 'UAA',\n",
       " 'No details',\n",
       " '']"
      ]
     },
     "execution_count": 48,
     "metadata": {},
     "output_type": "execute_result"
    }
   ],
   "source": [
    "for id_key in json_data.keys():\n",
    "        # Get the values for this ID and table name\n",
    "        values = [json_data[id_key][table_key][col_key] for col_key in json_data[id_key][table_key].keys()]\n",
    "values"
   ]
  },
  {
   "cell_type": "code",
   "execution_count": null,
   "id": "opening-columbus",
   "metadata": {},
   "outputs": [],
   "source": [
    "cur.execute(\"drop table vendorDetails\")\n",
    "cur.execute(\"drop table blockDetails\")\n",
    "cur.execute(\"drop table macAddressDetails\")"
   ]
  },
  {
   "cell_type": "code",
   "execution_count": 53,
   "id": "persistent-violin",
   "metadata": {},
   "outputs": [
    {
     "name": "stdout",
     "output_type": "stream",
     "text": [
      "oui, isPrivate, companyName, companyAddress, countryCode\n",
      "CREATE TABLE IF NOT EXISTS vendorDetails (id TEXT, oui TEXT NULL, isPrivate TEXT NULL, companyName TEXT NULL, companyAddress TEXT NULL, countryCode TEXT NULL)\n",
      "\n",
      "blockFound, borderLeft, borderRight, blockSize, assignmentBlockSize, dateCreated, dateUpdated\n",
      "CREATE TABLE IF NOT EXISTS blockDetails (id TEXT, blockFound TEXT NULL, borderLeft TEXT NULL, borderRight TEXT NULL, blockSize TEXT NULL, assignmentBlockSize TEXT NULL, dateCreated TEXT NULL, dateUpdated TEXT NULL)\n",
      "\n",
      "searchTerm, isValid, virtualMachine, applications, transmissionType, administrationType, wiresharkNotes, comment\n",
      "CREATE TABLE IF NOT EXISTS macAddressDetails (id TEXT, searchTerm TEXT NULL, isValid TEXT NULL, virtualMachine TEXT NULL, applications TEXT NULL, transmissionType TEXT NULL, administrationType TEXT NULL, wiresharkNotes TEXT NULL, comment TEXT NULL)\n",
      "\n"
     ]
    },
    {
     "ename": "InterfaceError",
     "evalue": "Error binding parameter 4 - probably unsupported type.",
     "output_type": "error",
     "traceback": [
      "\u001b[1;31m---------------------------------------------------------------------------\u001b[0m",
      "\u001b[1;31mInterfaceError\u001b[0m                            Traceback (most recent call last)",
      "\u001b[1;32m<ipython-input-53-5ba91354309c>\u001b[0m in \u001b[0;36m<module>\u001b[1;34m\u001b[0m\n\u001b[0;32m     14\u001b[0m \u001b[1;33m\u001b[0m\u001b[0m\n\u001b[0;32m     15\u001b[0m         \u001b[1;31m# Insert data into the table\u001b[0m\u001b[1;33m\u001b[0m\u001b[1;33m\u001b[0m\u001b[1;33m\u001b[0m\u001b[0m\n\u001b[1;32m---> 16\u001b[1;33m         \u001b[0mcur\u001b[0m\u001b[1;33m.\u001b[0m\u001b[0mexecute\u001b[0m\u001b[1;33m(\u001b[0m\u001b[1;34mf\"INSERT INTO {table_key} (id, {', '.join(json_data[id_key][table_key].keys())}) VALUES (?, {', '.join(['?' for i in range(len(values))])})\"\u001b[0m\u001b[1;33m,\u001b[0m \u001b[1;33m[\u001b[0m\u001b[0mid_key\u001b[0m\u001b[1;33m,\u001b[0m \u001b[1;33m*\u001b[0m\u001b[0mvalues\u001b[0m\u001b[1;33m]\u001b[0m\u001b[1;33m)\u001b[0m\u001b[1;33m\u001b[0m\u001b[1;33m\u001b[0m\u001b[0m\n\u001b[0m\u001b[0;32m     17\u001b[0m \u001b[1;33m\u001b[0m\u001b[0m\n\u001b[0;32m     18\u001b[0m \u001b[1;33m\u001b[0m\u001b[0m\n",
      "\u001b[1;31mInterfaceError\u001b[0m: Error binding parameter 4 - probably unsupported type."
     ]
    }
   ],
   "source": [
    "for table_key in table_names:\n",
    "    # Create a new table for each table name\n",
    "    cols = ', '.join(json_data[\"00:01:95:4e:21:63\"][table_key].keys())\n",
    "    print(cols)\n",
    "    print(f\"CREATE TABLE IF NOT EXISTS {table_key} (id TEXT, {', '.join([f'{col} TEXT NULL' for col in json_data[id_key][table_key].keys()])})\")\n",
    "    print()\n",
    "    cur.execute(f\"CREATE TABLE IF NOT EXISTS {table_key} (id TEXT, {', '.join([f'{col} TEXT NULL' for col in json_data[id_key][table_key].keys()])})\")\n",
    "\n",
    "\n",
    "    # Iterate through the first dimension of the JSON\n",
    "    for id_key in json_data.keys():\n",
    "        # Get the values for this ID and table name\n",
    "        values = [json_data[id_key][table_key][col_key] for col_key in json_data[id_key][table_key].keys()]\n",
    "        \n",
    "        # Insert data into the table\n",
    "        cur.execute(f\"INSERT INTO {table_key} (id, {', '.join(json_data[id_key][table_key].keys())}) VALUES (?, {', '.join(['?' for i in range(len(values))])})\", [id_key, *values])\n",
    "\n",
    "\n",
    "# Commit changes and close connection\n",
    "con.commit()\n",
    "con.close()"
   ]
  },
  {
   "cell_type": "code",
   "execution_count": 54,
   "id": "unexpected-printing",
   "metadata": {},
   "outputs": [],
   "source": [
    "con.close()"
   ]
  },
  {
   "cell_type": "code",
   "execution_count": 17,
   "id": "signed-container",
   "metadata": {},
   "outputs": [
    {
     "ename": "OperationalError",
     "evalue": "table table1 has no column named col1",
     "output_type": "error",
     "traceback": [
      "\u001b[1;31m---------------------------------------------------------------------------\u001b[0m",
      "\u001b[1;31mOperationalError\u001b[0m                          Traceback (most recent call last)",
      "\u001b[1;32m<ipython-input-17-80b1b23418db>\u001b[0m in \u001b[0;36m<module>\u001b[1;34m\u001b[0m\n\u001b[0;32m     41\u001b[0m \u001b[1;33m\u001b[0m\u001b[0m\n\u001b[0;32m     42\u001b[0m         \u001b[1;31m# Insert data into the table\u001b[0m\u001b[1;33m\u001b[0m\u001b[1;33m\u001b[0m\u001b[1;33m\u001b[0m\u001b[0m\n\u001b[1;32m---> 43\u001b[1;33m         \u001b[0mcur\u001b[0m\u001b[1;33m.\u001b[0m\u001b[0mexecute\u001b[0m\u001b[1;33m(\u001b[0m\u001b[1;34mf\"INSERT INTO {table_key} (id, {cols}) VALUES (?, ?)\"\u001b[0m\u001b[1;33m,\u001b[0m \u001b[1;33m(\u001b[0m\u001b[0mid_key\u001b[0m\u001b[1;33m,\u001b[0m \u001b[1;33m*\u001b[0m\u001b[0mvalues\u001b[0m\u001b[1;33m)\u001b[0m\u001b[1;33m)\u001b[0m\u001b[1;33m\u001b[0m\u001b[1;33m\u001b[0m\u001b[0m\n\u001b[0m\u001b[0;32m     44\u001b[0m \u001b[1;33m\u001b[0m\u001b[0m\n\u001b[0;32m     45\u001b[0m \u001b[1;31m# Commit changes to the database\u001b[0m\u001b[1;33m\u001b[0m\u001b[1;33m\u001b[0m\u001b[1;33m\u001b[0m\u001b[0m\n",
      "\u001b[1;31mOperationalError\u001b[0m: table table1 has no column named col1"
     ]
    }
   ],
   "source": [
    "import sqlite3\n",
    "\n",
    "# Load the JSON data\n",
    "json_data = {\n",
    "    \"id1\": {\n",
    "        \"table1\": {\n",
    "            \"col1\": \"val1\",\n",
    "            \"col2\": \"val2\"\n",
    "        },\n",
    "        \"table2\": {\n",
    "            \"col1\": \"val3\",\n",
    "            \"col2\": \"val4\"\n",
    "        }\n",
    "    },\n",
    "    \"id2\": {\n",
    "        \"table1\": {\n",
    "            \"col1\": \"val5\",\n",
    "            \"col2\": \"val6\"\n",
    "        },\n",
    "        \"table2\": {\n",
    "            \"col1\": \"val7\",\n",
    "            \"col2\": \"val8\"\n",
    "        }\n",
    "    }\n",
    "}\n",
    "\n",
    "# Open a connection to a new SQLite database\n",
    "conn = sqlite3.connect('mydatabase.db')\n",
    "cur = conn.cursor()\n",
    "\n",
    "# Iterate through the second dimension of the JSON\n",
    "for table_key in json_data[\"id1\"].keys():\n",
    "    # Create a new table for each table name\n",
    "    cur.execute(f\"CREATE TABLE IF NOT EXISTS {table_key} (id TEXT PRIMARY KEY)\")\n",
    "\n",
    "    # Iterate through the first dimension of the JSON\n",
    "    for id_key in json_data.keys():\n",
    "        # Get the values for this ID and table name\n",
    "        values = [json_data[id_key][table_key][col_key] for col_key in json_data[id_key][table_key].keys()]\n",
    "        cols = \", \".join(json_data[id_key][table_key].keys())\n",
    "\n",
    "        # Insert data into the table\n",
    "        cur.execute(f\"INSERT INTO {table_key} (id, {cols}) VALUES (?, ?)\", (id_key, *values))\n",
    "\n",
    "# Commit changes to the database\n",
    "conn.commit()\n",
    "\n",
    "# Close the database connection\n",
    "conn.close()\n"
   ]
  },
  {
   "cell_type": "markdown",
   "id": "extraordinary-graduate",
   "metadata": {},
   "source": [
    "# log"
   ]
  },
  {
   "cell_type": "code",
   "execution_count": null,
   "id": "charged-evans",
   "metadata": {},
   "outputs": [],
   "source": [
    "import logging\n",
    "import datetime\n",
    "\n",
    "# Get the current date and time\n",
    "now = datetime.datetime.now()\n",
    "\n",
    "# Configure the logging module\n",
    "logging.basicConfig(filename='Log_WiGLE', level=logging.DEBUG)\n",
    "\n",
    "# Generate a log message\n",
    "logging.info(now,':Inital successfully, with {} data'.format(len(json_raw_data)))\n"
   ]
  }
 ],
 "metadata": {
  "kernelspec": {
   "display_name": "Python 3",
   "language": "python",
   "name": "python3"
  },
  "language_info": {
   "codemirror_mode": {
    "name": "ipython",
    "version": 3
   },
   "file_extension": ".py",
   "mimetype": "text/x-python",
   "name": "python",
   "nbconvert_exporter": "python",
   "pygments_lexer": "ipython3",
   "version": "3.8.4rc1"
  }
 },
 "nbformat": 4,
 "nbformat_minor": 5
}
