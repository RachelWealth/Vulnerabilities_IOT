{
 "cells": [
  {
   "cell_type": "code",
   "execution_count": null,
   "id": "strategic-fetish",
   "metadata": {},
   "outputs": [],
   "source": [
    "# Put all the network information in \"WiGLE_Backup.db\"\n",
    "\n",
    "import sqlite3\n",
    "\n",
    "PATH=\"data/WiGLE_Backup.db\"\n",
    "second_path='data/WiGLE_Database_Backup_1603.db'\n",
    "\n",
    "I3E=\"i3e\"\n",
    "NET = \"network\"\n",
    "VEN = \"vendor\"\n",
    "wigle_blue = \"wigle_blue\"\n",
    "wigle_wifi= \"wigle_wifi\"\n",
    "\n",
    "con = sqlite3.connect(PATH)\n",
    "cur=con.cursor()"
   ]
  },
  {
   "cell_type": "code",
   "execution_count": 1,
   "id": "swiss-newport",
   "metadata": {},
   "outputs": [
    {
     "ename": "SyntaxError",
     "evalue": "invalid syntax (<ipython-input-1-d556975c13d2>, line 1)",
     "output_type": "error",
     "traceback": [
      "\u001b[1;36m  File \u001b[1;32m\"<ipython-input-1-d556975c13d2>\"\u001b[1;36m, line \u001b[1;32m1\u001b[0m\n\u001b[1;33m    ATTACH second_path AS second;\u001b[0m\n\u001b[1;37m           ^\u001b[0m\n\u001b[1;31mSyntaxError\u001b[0m\u001b[1;31m:\u001b[0m invalid syntax\n"
     ]
    }
   ],
   "source": [
    "ATTACH second_path AS second;\n",
    "\n",
    "con2 = sqlite3.connect(PATH)\n",
    "cur2=con.cursor()\n",
    "\n",
    "query = \"DELETE FROM {} WHERE type != ? and type != ?\".format(net)\n",
    "cur.execute(query, ('W', 'B'))\n",
    "\n",
    "query = \"select count(*) from {}\".format(net)\n",
    "print(\"The number of WiFi and Bluethooth data is in the new database is\",cur.execute(query).fetchone()[0])\n",
    "\n",
    "con2.commit()\n",
    "\n",
    "cur2.execute(\"ATTACH DATABASE {} AS db1\".format(PATH))\n",
    "\n",
    "# Select data from the second table and remap the id values\n",
    "rows = cur2.execute(\"INSERT INTO db1.{} SELECT * FROM {}\").format(NET,NET)\n",
    "\n",
    "\n",
    "# Commit the changes and close the connections\n",
    "con.commit()\n",
    "con2.close()\n",
    "con.close()"
   ]
  },
  {
   "cell_type": "code",
   "execution_count": null,
   "id": "friendly-hypothesis",
   "metadata": {},
   "outputs": [],
   "source": []
  }
 ],
 "metadata": {
  "kernelspec": {
   "display_name": "Python 3",
   "language": "python",
   "name": "python3"
  },
  "language_info": {
   "codemirror_mode": {
    "name": "ipython",
    "version": 3
   },
   "file_extension": ".py",
   "mimetype": "text/x-python",
   "name": "python",
   "nbconvert_exporter": "python",
   "pygments_lexer": "ipython3",
   "version": "3.8.4rc1"
  }
 },
 "nbformat": 4,
 "nbformat_minor": 5
}
