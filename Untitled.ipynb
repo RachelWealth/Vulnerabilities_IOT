{
 "cells": [
  {
   "cell_type": "code",
   "execution_count": null,
   "id": "quiet-wales",
   "metadata": {},
   "outputs": [],
   "source": [
    "import sqlite3\n",
    "import pandas as pd\n",
    "import matplotlib.pyplot as plt\n",
    "\n",
    "PATH=\"data/WiGLE_Backup.db\"\n",
    "net = \"network\"\n",
    "loc = \"location\"\n"
   ]
  },
  {
   "cell_type": "code",
   "execution_count": null,
   "id": "bulgarian-tunisia",
   "metadata": {},
   "outputs": [],
   "source": [
    "# Device categorize"
   ]
  }
 ],
 "metadata": {
  "kernelspec": {
   "display_name": "Python 3",
   "language": "python",
   "name": "python3"
  },
  "language_info": {
   "codemirror_mode": {
    "name": "ipython",
    "version": 3
   },
   "file_extension": ".py",
   "mimetype": "text/x-python",
   "name": "python",
   "nbconvert_exporter": "python",
   "pygments_lexer": "ipython3",
   "version": "3.8.4rc1"
  }
 },
 "nbformat": 4,
 "nbformat_minor": 5
}
